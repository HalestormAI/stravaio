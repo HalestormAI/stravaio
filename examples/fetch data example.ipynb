{
 "cells": [
  {
   "cell_type": "code",
   "execution_count": 2,
   "metadata": {},
   "outputs": [
    {
     "name": "stdout",
     "output_type": "stream",
     "text": [
      "The autoreload extension is already loaded. To reload it, use:\n",
      "  %reload_ext autoreload\n"
     ]
    }
   ],
   "source": [
    "import os\n",
    "from stravaio import StravaIO, strava_oauth2\n",
    "import dotenv\n",
    "import warnings\n",
    "\n",
    "%load_ext autoreload\n",
    "%autoreload 2"
   ]
  },
  {
   "cell_type": "code",
   "execution_count": 3,
   "metadata": {},
   "outputs": [
    {
     "data": {
      "text/plain": [
       "True"
      ]
     },
     "execution_count": 3,
     "metadata": {},
     "output_type": "execute_result"
    }
   ],
   "source": [
    "dotenv.load_dotenv()"
   ]
  },
  {
   "cell_type": "code",
   "execution_count": 4,
   "metadata": {},
   "outputs": [
    {
     "name": "stderr",
     "output_type": "stream",
     "text": [
      "2019-07-15 09:58:45.296 | INFO     | stravaio:strava_oauth2:343 - serving at port 8000\n",
      "2019-07-15 09:58:57.004 | DEBUG    | stravaio:run_server_and_wait_for_token:397 - code: 27428c8972f848ae2982509e9911c32d771226eb\n",
      "2019-07-15 09:58:58.912 | DEBUG    | stravaio:run_server_and_wait_for_token:406 - Authorized athlete: 44c6877ec5d58049d9942cb03d9b418a05a55153\n"
     ]
    }
   ],
   "source": [
    "token = strava_oauth2()"
   ]
  },
  {
   "cell_type": "code",
   "execution_count": 5,
   "metadata": {},
   "outputs": [],
   "source": [
    "client = StravaIO(access_token=token['access_token'])"
   ]
  },
  {
   "cell_type": "code",
   "execution_count": 9,
   "metadata": {},
   "outputs": [],
   "source": [
    "athlete = client.get_logged_in_athlete()"
   ]
  },
  {
   "cell_type": "code",
   "execution_count": 11,
   "metadata": {},
   "outputs": [
    {
     "name": "stdout",
     "output_type": "stream",
     "text": [
      "Fetched 30, the latests is on 2018-09-16 13:10:11+00:00\n",
      "Fetched 30, the latests is on 2018-11-10 13:11:27+00:00\n",
      "Fetched 30, the latests is on 2018-12-07 20:51:36+00:00\n",
      "Fetched 30, the latests is on 2019-03-17 12:48:23+00:00\n",
      "Fetched 30, the latests is on 2019-06-18 10:17:06+00:00\n",
      "Fetched 20, the latests is on 2019-07-15 03:20:08+00:00\n"
     ]
    }
   ],
   "source": [
    "activities = client.get_logged_in_athlete_activities(after='last year')"
   ]
  },
  {
   "cell_type": "code",
   "execution_count": 13,
   "metadata": {},
   "outputs": [
    {
     "data": {
      "text/plain": [
       "20"
      ]
     },
     "execution_count": 13,
     "metadata": {},
     "output_type": "execute_result"
    }
   ],
   "source": [
    "len(activities)"
   ]
  }
 ],
 "metadata": {
  "kernelspec": {
   "display_name": "Python 3",
   "language": "python",
   "name": "python3"
  },
  "language_info": {
   "codemirror_mode": {
    "name": "ipython",
    "version": 3
   },
   "file_extension": ".py",
   "mimetype": "text/x-python",
   "name": "python",
   "nbconvert_exporter": "python",
   "pygments_lexer": "ipython3",
   "version": "3.6.5"
  }
 },
 "nbformat": 4,
 "nbformat_minor": 2
}
